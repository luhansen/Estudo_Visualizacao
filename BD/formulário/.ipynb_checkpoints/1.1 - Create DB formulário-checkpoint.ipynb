{
 "cells": [
  {
   "cell_type": "code",
   "execution_count": 1,
   "metadata": {},
   "outputs": [],
   "source": [
    "import pandas as pd\n",
    "from unidecode import unidecode"
   ]
  },
  {
   "cell_type": "code",
   "execution_count": 84,
   "metadata": {},
   "outputs": [],
   "source": [
    "docs = [\n",
    "    {\n",
    "        'file': \"Formulário de Percepção - ICC - 2020.1.xlsx\",\n",
    "        'course': 'ICC',\n",
    "        'period': '20201',\n",
    "        'column': ['age', 'gender', 'isquotaholder', 'parent_has_higher_education', 'school_type', 'course', 'like_math', 'programming_experience', 'where_programming_experience', 'languages_programming_experience', 'studing_hours', 'need_more_studing_hours', 'consistent_score', 'like_programming', 'especial_treatment', 'is_smart', 'had_ignored_ideas', 'suggestions', 'class', 'period']\n",
    "    },\n",
    "    {\n",
    "        'file': \"Formulário de Percepção - ICC - 2019.2.xlsx\",\n",
    "        'course': 'ICC',\n",
    "        'period': '20192',\n",
    "        'column': ['age', 'gender', 'isquotaholder', 'parent_has_higher_education', 'school_type', 'course', 'course_choise', 'parent_working_area', 'like_math', 'programming_experience', 'where_programming_experience', 'languages_programming_experience', 'studing_hours', 'need_more_studing_hours', 'consistent_score', 'like_programming', 'especial_treatment', 'is_smart', 'had_ignored_ideas', 'suggestions', 'class', 'period']\n",
    "    },\n",
    "    {\n",
    "        'file': \"Formulário de Percepção - APC - 2020.1.xlsx\",\n",
    "        'course': 'APC',\n",
    "        'period': '20201',\n",
    "        'column': ['age', 'gender', 'isquotaholder', 'parent_has_higher_education', 'school_type', 'course', 'APC_class', 'course_choise', 'parent_working_area', 'like_math', 'math_is_for_smart_ones', 'programming_experience', 'where_programming_experience', 'languages_programming_experience', 'studing_hours', 'need_more_studing_hours', 'consistent_score', 'like_programming', 'especial_treatment', 'is_smart', 'had_ignored_ideas', 'suggestions', 'class', 'period']\n",
    "    },\n",
    "    {\n",
    "        'file': \"Formulário de Percepção - APC - 2019.2.xlsx\",\n",
    "        'course': 'APC',\n",
    "        'period': '20192',\n",
    "        'column': ['age', 'gender', 'isquotaholder', 'parent_has_higher_education', 'school_type', 'course', 'APC_class', 'course_choise', 'parent_working_area', 'like_math', 'math_is_for_smart_ones', 'math_is_for_man', 'programming_experience', 'where_programming_experience', 'languages_programming_experience', 'studing_hours', 'need_more_studing_hours', 'consistent_score', 'like_programming', 'especial_treatment', 'is_smart', 'had_ignored_ideas', 'suggestions', 'class', 'period']\n",
    "    }\n",
    "]"
   ]
  },
  {
   "cell_type": "code",
   "execution_count": null,
   "metadata": {},
   "outputs": [],
   "source": []
  },
  {
   "cell_type": "code",
   "execution_count": 85,
   "metadata": {},
   "outputs": [],
   "source": [
    "# Connect to data base\n",
    "import mysql.connector as mysql\n",
    "from mysql.connector import Error\n",
    "try:\n",
    "    db = mysql.connect(\n",
    "        host = \"localhost\",\n",
    "        #database='mestrado2'\n",
    "        database='mestrado2NOTA',\n",
    "        user = \"root\",\n",
    "        passwd = \"admin\"\n",
    "    )\n",
    "    \n",
    "    if db.is_connected():\n",
    "        cursor = db.cursor(buffered=True)\n",
    "#         cursor = db.cursor()\n",
    "except Error as e:\n",
    "    print(\"Error while connecting to MySQL\", e)\n",
    "    "
   ]
  },
  {
   "cell_type": "code",
   "execution_count": 96,
   "metadata": {},
   "outputs": [],
   "source": [
    "cursor.execute(\"DROP TABLE IF EXISTS formulario\")\n",
    "cursor.execute(\"CREATE TABLE formulario (id INT AUTO_INCREMENT PRIMARY KEY, class VARCHAR(255), course_choise VARCHAR(255), parent_working_area VARCHAR(255), APC_class VARCHAR(255), parent_has_higher_education VARCHAR(255), math_is_for_smart_ones VARCHAR(255), math_is_for_man VARCHAR(255), period VARCHAR(255), age VARCHAR(255) NOT NULL, gender VARCHAR(255) NOT NULL, isquotaholder VARCHAR(255) NOT NULL, school_type VARCHAR(255), course VARCHAR(255), like_math VARCHAR(255), programming_experience VARCHAR(255), where_programming_experience VARCHAR(255), languages_programming_experience VARCHAR(255), studing_hours VARCHAR(255), need_more_studing_hours VARCHAR(255), consistent_score VARCHAR(255), like_programming VARCHAR(255), especial_treatment VARCHAR(255), is_smart VARCHAR(255), had_ignored_ideas VARCHAR(255), suggestions VARCHAR(5000))\")"
   ]
  },
  {
   "cell_type": "code",
   "execution_count": 97,
   "metadata": {},
   "outputs": [],
   "source": [
    "def dado_nao_informado(row, column):\n",
    "    if not pd.isnull(row[column]):\n",
    "        return row[column]\n",
    "    else:\n",
    "        return 'Nao informado'"
   ]
  },
  {
   "cell_type": "code",
   "execution_count": 98,
   "metadata": {},
   "outputs": [
    {
     "name": "stdout",
     "output_type": "stream",
     "text": [
      "Formulário de Percepção - ICC - 2020.1.xlsx\n",
      "Formulário de Percepção - ICC - 2019.2.xlsx\n",
      "Formulário de Percepção - APC - 2020.1.xlsx\n",
      "Formulário de Percepção - APC - 2019.2.xlsx\n"
     ]
    }
   ],
   "source": [
    "for doc in docs:\n",
    "    print(doc['file'])\n",
    "    \n",
    "    all_data = pd.read_excel(doc['file'])\n",
    "    column = doc['column']\n",
    "    try:\n",
    "        all_data = all_data.drop(['Timestamp', 'Para continuar solicito que confirme a participação na pesquisa'], axis=1)\n",
    "    except:\n",
    "        all_data = all_data.drop(['Timestamp'], axis=1)\n",
    "    \n",
    "    \n",
    "    all_data['course'] = doc['course']\n",
    "    all_data['period'] = doc['period']\n",
    "    \n",
    "    all_data.columns = column\n",
    "    \n",
    "    all_data['where_programming_experience'] = all_data.apply(lambda x: dado_nao_informado(x, 'where_programming_experience'), axis=1)\n",
    "    all_data['languages_programming_experience'] = all_data.apply(lambda x: dado_nao_informado(x, 'languages_programming_experience'), axis=1)\n",
    "    all_data['suggestions'] = all_data.apply(lambda x: dado_nao_informado(x, 'suggestions'), axis=1)\n",
    "    all_data['is_smart'] = all_data.apply(lambda x: dado_nao_informado(x, 'is_smart'), axis=1)\n",
    "    all_data['had_ignored_ideas'] = all_data.apply(lambda x: dado_nao_informado(x, 'had_ignored_ideas'), axis=1)\n",
    "    all_data['especial_treatment'] = all_data.apply(lambda x: dado_nao_informado(x, 'especial_treatment'), axis=1)\n",
    "    all_data['like_programming'] = all_data.apply(lambda x: dado_nao_informado(x, 'like_programming'), axis=1)\n",
    "    str1 = \", \"\n",
    "\n",
    "    for i,row in all_data.iterrows():\n",
    "        sql = \"INSERT INTO formulario(\" + str1.join(column) + \") VALUES (\" + \"%s,\"*(len(row)-1) + \"%s)\"\n",
    "        cursor.execute(sql, tuple(row))\n",
    "\n",
    "        # the connection is not autocommitted by default, so we must commit to save our changes\n",
    "        db.commit()"
   ]
  },
  {
   "cell_type": "code",
   "execution_count": 99,
   "metadata": {},
   "outputs": [],
   "source": [
    "db.close()"
   ]
  },
  {
   "cell_type": "code",
   "execution_count": null,
   "metadata": {},
   "outputs": [],
   "source": []
  }
 ],
 "metadata": {
  "kernelspec": {
   "display_name": "Python 3",
   "language": "python",
   "name": "python3"
  },
  "language_info": {
   "codemirror_mode": {
    "name": "ipython",
    "version": 3
   },
   "file_extension": ".py",
   "mimetype": "text/x-python",
   "name": "python",
   "nbconvert_exporter": "python",
   "pygments_lexer": "ipython3",
   "version": "3.5.2"
  }
 },
 "nbformat": 4,
 "nbformat_minor": 4
}
