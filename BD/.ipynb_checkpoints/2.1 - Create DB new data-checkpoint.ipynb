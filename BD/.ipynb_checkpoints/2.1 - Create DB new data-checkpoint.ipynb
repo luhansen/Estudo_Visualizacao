{
 "cells": [
  {
   "cell_type": "code",
   "execution_count": 1,
   "metadata": {},
   "outputs": [],
   "source": [
    "import pandas as pd\n",
    "from unidecode import unidecode"
   ]
  },
  {
   "cell_type": "code",
   "execution_count": 2,
   "metadata": {},
   "outputs": [],
   "source": [
    "all_data = pd.read_excel('citsmart_124565_alunos_introducao_computacao_tratado.xlsx', sep=',')"
   ]
  },
  {
   "cell_type": "code",
   "execution_count": 3,
   "metadata": {},
   "outputs": [
    {
     "name": "stdout",
     "output_type": "stream",
     "text": [
      "<class 'pandas.core.frame.DataFrame'>\n",
      "RangeIndex: 52786 entries, 0 to 52785\n",
      "Data columns (total 26 columns):\n",
      "Unnamed: 0                            52786 non-null int64\n",
      "Aluno                                 52786 non-null object\n",
      "genero                                52786 non-null object\n",
      "nascimento                            52786 non-null object\n",
      "endereco                              52786 non-null object\n",
      "estado_nascimento                     52786 non-null object\n",
      "sistema_cotas                         52786 non-null object\n",
      "cota                                  52786 non-null object\n",
      "Escola                                52786 non-null object\n",
      "chamada_ingressou_UnB                 52786 non-null object\n",
      "curso                                 52786 non-null object\n",
      "periodo_ingresso_unb                  52786 non-null int64\n",
      "periodo_ingresso_curso                52786 non-null int64\n",
      "forma_ingresso_unb                    52786 non-null object\n",
      "periodo_saida_curso                   52786 non-null int64\n",
      "forma_saida_curso                     52786 non-null object\n",
      "periodo_cursou_disciplina             52786 non-null int64\n",
      "media_semestre_aluno                  52786 non-null float64\n",
      "min_cred_para_formatura               52786 non-null int64\n",
      "creditos_no_periodo                   52786 non-null int64\n",
      "creditos_creditos_aprovado_periodo    52786 non-null int64\n",
      "codigo_disciplina                     52786 non-null int64\n",
      "nome_disciplina                       52786 non-null object\n",
      "creditos_disciplina                   52786 non-null int64\n",
      "mencao_disciplina                     52786 non-null object\n",
      "id_student                            52786 non-null int64\n",
      "dtypes: float64(1), int64(11), object(14)\n",
      "memory usage: 10.5+ MB\n"
     ]
    }
   ],
   "source": [
    "all_data.info()"
   ]
  },
  {
   "cell_type": "code",
   "execution_count": 7,
   "metadata": {},
   "outputs": [],
   "source": [
    "# Connect to data base\n",
    "import mysql.connector as mysql\n",
    "from mysql.connector import Error\n",
    "try:\n",
    "    db = mysql.connect(\n",
    "        host = \"localhost\",\n",
    "        database='mestrado2',\n",
    "        user = \"root\",\n",
    "        passwd = \"admin\"\n",
    "    )\n",
    "    \n",
    "    if db.is_connected():\n",
    "        cursor = db.cursor(buffered=True)\n",
    "#         cursor = db.cursor()\n",
    "except Error as e:\n",
    "    print(\"Error while connecting to MySQL\", e)\n",
    "    "
   ]
  },
  {
   "cell_type": "code",
   "execution_count": 8,
   "metadata": {},
   "outputs": [
    {
     "name": "stdout",
     "output_type": "stream",
     "text": [
      "('student_course_subject',)\n",
      "('student_courses',)\n",
      "('students',)\n",
      "('subjects',)\n"
     ]
    }
   ],
   "source": [
    "cursor.execute(\"DROP TABLE IF EXISTS student_course_subject\")\n",
    "cursor.execute(\"DROP TABLE IF EXISTS student_courses\")\n",
    "cursor.execute(\"DROP TABLE IF EXISTS students\")\n",
    "cursor.execute(\"DROP TABLE IF EXISTS subjects\")\n",
    "\n",
    "\n",
    "# TABELA MATERIAS\n",
    "# Código.da.disciplina\tNome.da.disciplina\tCréditos.disciplina\n",
    "cursor.execute(\"CREATE TABLE subjects (id INT AUTO_INCREMENT PRIMARY KEY, code VARCHAR(255) NOT NULL, name VARCHAR(255) NOT NULL, credits int(10) NOT NULL)\")\n",
    "\n",
    "\n",
    "# TABELA ALUNOS\n",
    "# \tID.Aluno\tSexo\tUF.de.Nascimento\tCotista\t\n",
    "# Tipo.de.Escola\tRaça\tPeriodo.de.Ingresso.na.Unb\tForma.de.Ingresso.na.UnB\n",
    "cursor.execute(\"CREATE TABLE students (id VARCHAR(255) NOT NULL PRIMARY KEY, gender VARCHAR(255) NOT NULL, birth_date VARCHAR(255) NOT NULL, uf_birth VARCHAR(10) NOT NULL, adress VARCHAR(255) NOT NULL, isquotaholder VARCHAR(10) NOT NULL, quotaholder_type VARCHAR(255), school_type VARCHAR(255) NOT NULL, university_entrance_period VARCHAR(255) NOT NULL, university_entrance_form VARCHAR(255), university_entrance_call VARCHAR(255) NOT NULL, ira VARCHAR(255) NOT NULL, total_credits VARCHAR(255) NOT NULL)\")\n",
    "\n",
    "# TABELA ALUNOS_CURSO\n",
    "# ID, ID.Aluno, Curso, Opção, Periodo.de.ingresso.na.opção, Período.de.saída.da.opção, \n",
    "# Forma.de.saída.da.opção, Min..Créd..Formatura\t\n",
    "# Créditos.cursados.no.total\tCréditos.integralizados.no.total\tCréditos.a.integralizar.no.total\n",
    "cursor.execute(\"CREATE TABLE student_courses (id INT AUTO_INCREMENT PRIMARY KEY, course VARCHAR(255) NOT NULL, course_entrance_period VARCHAR(255) NOT NULL, leaving_form VARCHAR(255) NOT NULL, leaving_period VARCHAR(255) NOT NULL, minimum_graduation_credit VARCHAR(255) NOT NULL, id_student VARCHAR(255) NOT NULL, FOREIGN KEY(id_student) REFERENCES students(id) ON DELETE CASCADE)\")\n",
    "\n",
    "# TABELA_ALUNOS_MATERIA_CURSO\n",
    "# Ano.e.Semestre\tMédia.do.período\tAno.e.Semestre\n",
    "# Média.do.período}\tID.Aluno\t(Código.da.disciplina)\t(ID.Aluno.Curso)\n",
    "cursor.execute(\"CREATE TABLE student_course_subject(id INT AUTO_INCREMENT PRIMARY KEY, score VARCHAR(255) NOT NULL, num_score INT NOT NULL, average_in_semester VARCHAR(255) NOT NULL, student_semester int NOT NULL, semester_year VARCHAR(255) NOT NULL, total_credits_semester int NOT NULL, approved_total_credits_semester int NOT NULL, id_student VARCHAR(255) NOT NULL, id_student_course INT NOT NULL, id_subject INT NOT NULL, FOREIGN KEY(id_student) REFERENCES students(id) ON DELETE CASCADE, FOREIGN KEY(id_student_course) REFERENCES student_courses(id) ON DELETE CASCADE, FOREIGN KEY(id_subject) REFERENCES subjects(id) ON DELETE CASCADE)\")\n",
    "\n",
    "\n",
    "cursor.execute(\"SHOW TABLES\")\n",
    "\n",
    "for x in cursor:\n",
    "  print(x)\n"
   ]
  },
  {
   "cell_type": "markdown",
   "metadata": {},
   "source": [
    "## Student"
   ]
  },
  {
   "cell_type": "code",
   "execution_count": 9,
   "metadata": {},
   "outputs": [],
   "source": [
    "values_students = all_data[['id_student', 'genero', 'nascimento', 'endereco', 'estado_nascimento', 'sistema_cotas', 'cota', 'Escola', 'periodo_ingresso_unb', 'forma_ingresso_unb', 'chamada_ingressou_UnB']]\n",
    "uniqueValuesStudents = values_students.drop_duplicates()"
   ]
  },
  {
   "cell_type": "code",
   "execution_count": 10,
   "metadata": {},
   "outputs": [
    {
     "name": "stdout",
     "output_type": "stream",
     "text": [
      "8412\n",
      "52786\n",
      "8412\n"
     ]
    }
   ],
   "source": [
    "print(uniqueValuesStudents['id_student'].count())\n",
    "print(values_students['id_student'].count())\n",
    "print(len(all_data['id_student'].unique().tolist()))"
   ]
  },
  {
   "cell_type": "markdown",
   "metadata": {},
   "source": [
    "## Student_courses"
   ]
  },
  {
   "cell_type": "code",
   "execution_count": 11,
   "metadata": {},
   "outputs": [],
   "source": [
    "values_student_courses = all_data[['id_student', 'curso', 'periodo_ingresso_curso', 'periodo_saida_curso', 'forma_saida_curso', 'min_cred_para_formatura']]\n",
    "uniqueValuesStudentCourses = values_student_courses.drop_duplicates()"
   ]
  },
  {
   "cell_type": "code",
   "execution_count": 12,
   "metadata": {},
   "outputs": [
    {
     "name": "stdout",
     "output_type": "stream",
     "text": [
      "8607\n"
     ]
    }
   ],
   "source": [
    "print(uniqueValuesStudentCourses['id_student'].count())"
   ]
  },
  {
   "cell_type": "code",
   "execution_count": 13,
   "metadata": {},
   "outputs": [
    {
     "data": {
      "text/html": [
       "<div>\n",
       "<style scoped>\n",
       "    .dataframe tbody tr th:only-of-type {\n",
       "        vertical-align: middle;\n",
       "    }\n",
       "\n",
       "    .dataframe tbody tr th {\n",
       "        vertical-align: top;\n",
       "    }\n",
       "\n",
       "    .dataframe thead th {\n",
       "        text-align: right;\n",
       "    }\n",
       "</style>\n",
       "<table border=\"1\" class=\"dataframe\">\n",
       "  <thead>\n",
       "    <tr style=\"text-align: right;\">\n",
       "      <th></th>\n",
       "      <th>curso</th>\n",
       "      <th>min_cred_para_formatura</th>\n",
       "    </tr>\n",
       "  </thead>\n",
       "  <tbody>\n",
       "    <tr>\n",
       "      <th>0</th>\n",
       "      <td>Ciencia da Computacao</td>\n",
       "      <td>240</td>\n",
       "    </tr>\n",
       "    <tr>\n",
       "      <th>1735</th>\n",
       "      <td>Ciencia da Computacao</td>\n",
       "      <td>214</td>\n",
       "    </tr>\n",
       "    <tr>\n",
       "      <th>17392</th>\n",
       "      <td>Computacao</td>\n",
       "      <td>180</td>\n",
       "    </tr>\n",
       "    <tr>\n",
       "      <th>23889</th>\n",
       "      <td>Computacao</td>\n",
       "      <td>214</td>\n",
       "    </tr>\n",
       "    <tr>\n",
       "      <th>28861</th>\n",
       "      <td>Engenharia Civil</td>\n",
       "      <td>262</td>\n",
       "    </tr>\n",
       "    <tr>\n",
       "      <th>29778</th>\n",
       "      <td>Engenharia de Computacao</td>\n",
       "      <td>252</td>\n",
       "    </tr>\n",
       "    <tr>\n",
       "      <th>41653</th>\n",
       "      <td>Engenharia Eletrica</td>\n",
       "      <td>262</td>\n",
       "    </tr>\n",
       "    <tr>\n",
       "      <th>41860</th>\n",
       "      <td>Engenharia Eletrica</td>\n",
       "      <td>248</td>\n",
       "    </tr>\n",
       "    <tr>\n",
       "      <th>42560</th>\n",
       "      <td>Engenharia Florestal</td>\n",
       "      <td>258</td>\n",
       "    </tr>\n",
       "    <tr>\n",
       "      <th>43322</th>\n",
       "      <td>Engenharia Mecanica</td>\n",
       "      <td>262</td>\n",
       "    </tr>\n",
       "    <tr>\n",
       "      <th>44290</th>\n",
       "      <td>Engenharia Mecatronica</td>\n",
       "      <td>274</td>\n",
       "    </tr>\n",
       "    <tr>\n",
       "      <th>50371</th>\n",
       "      <td>Estatistica</td>\n",
       "      <td>184</td>\n",
       "    </tr>\n",
       "    <tr>\n",
       "      <th>50406</th>\n",
       "      <td>Estatistica</td>\n",
       "      <td>200</td>\n",
       "    </tr>\n",
       "    <tr>\n",
       "      <th>51228</th>\n",
       "      <td>Matematica</td>\n",
       "      <td>168</td>\n",
       "    </tr>\n",
       "    <tr>\n",
       "      <th>51634</th>\n",
       "      <td>Matematica</td>\n",
       "      <td>188</td>\n",
       "    </tr>\n",
       "  </tbody>\n",
       "</table>\n",
       "</div>"
      ],
      "text/plain": [
       "                          curso  min_cred_para_formatura\n",
       "0         Ciencia da Computacao                      240\n",
       "1735      Ciencia da Computacao                      214\n",
       "17392                Computacao                      180\n",
       "23889                Computacao                      214\n",
       "28861          Engenharia Civil                      262\n",
       "29778  Engenharia de Computacao                      252\n",
       "41653       Engenharia Eletrica                      262\n",
       "41860       Engenharia Eletrica                      248\n",
       "42560      Engenharia Florestal                      258\n",
       "43322       Engenharia Mecanica                      262\n",
       "44290    Engenharia Mecatronica                      274\n",
       "50371               Estatistica                      184\n",
       "50406               Estatistica                      200\n",
       "51228                Matematica                      168\n",
       "51634                Matematica                      188"
      ]
     },
     "execution_count": 13,
     "metadata": {},
     "output_type": "execute_result"
    }
   ],
   "source": [
    "uniqueValuesStudentCourses[['curso', 'min_cred_para_formatura']].drop_duplicates()"
   ]
  },
  {
   "cell_type": "code",
   "execution_count": 14,
   "metadata": {},
   "outputs": [],
   "source": [
    "def arrumar_curso(row, curso, min_creditos_antigo, min_creditos_novo):\n",
    "    if((row['curso'] == curso) & (row['min_cred_para_formatura'] == min_creditos_antigo)):\n",
    "        found2 = uniqueValuesStudentCourses[(uniqueValuesStudentCourses['id_student'] == row['id_student']) & \n",
    "            (uniqueValuesStudentCourses['curso'] == curso) & \n",
    "            (uniqueValuesStudentCourses['min_cred_para_formatura'] == min_creditos_novo) & \n",
    "            (uniqueValuesStudentCourses['forma_saida_curso'] == row['forma_saida_curso'])]\n",
    "        if(len(found2) > 0):\n",
    "            return 'Mudança de curriculo'\n",
    "    return row['forma_saida_curso']"
   ]
  },
  {
   "cell_type": "code",
   "execution_count": 15,
   "metadata": {},
   "outputs": [
    {
     "name": "stderr",
     "output_type": "stream",
     "text": [
      "/home/luiza/.local/lib/python3.5/site-packages/ipykernel_launcher.py:1: SettingWithCopyWarning: \n",
      "A value is trying to be set on a copy of a slice from a DataFrame.\n",
      "Try using .loc[row_indexer,col_indexer] = value instead\n",
      "\n",
      "See the caveats in the documentation: http://pandas.pydata.org/pandas-docs/stable/indexing.html#indexing-view-versus-copy\n",
      "  \"\"\"Entry point for launching an IPython kernel.\n",
      "/home/luiza/.local/lib/python3.5/site-packages/ipykernel_launcher.py:2: SettingWithCopyWarning: \n",
      "A value is trying to be set on a copy of a slice from a DataFrame.\n",
      "Try using .loc[row_indexer,col_indexer] = value instead\n",
      "\n",
      "See the caveats in the documentation: http://pandas.pydata.org/pandas-docs/stable/indexing.html#indexing-view-versus-copy\n",
      "  \n",
      "/home/luiza/.local/lib/python3.5/site-packages/ipykernel_launcher.py:3: SettingWithCopyWarning: \n",
      "A value is trying to be set on a copy of a slice from a DataFrame.\n",
      "Try using .loc[row_indexer,col_indexer] = value instead\n",
      "\n",
      "See the caveats in the documentation: http://pandas.pydata.org/pandas-docs/stable/indexing.html#indexing-view-versus-copy\n",
      "  This is separate from the ipykernel package so we can avoid doing imports until\n",
      "/home/luiza/.local/lib/python3.5/site-packages/ipykernel_launcher.py:4: SettingWithCopyWarning: \n",
      "A value is trying to be set on a copy of a slice from a DataFrame.\n",
      "Try using .loc[row_indexer,col_indexer] = value instead\n",
      "\n",
      "See the caveats in the documentation: http://pandas.pydata.org/pandas-docs/stable/indexing.html#indexing-view-versus-copy\n",
      "  after removing the cwd from sys.path.\n",
      "/home/luiza/.local/lib/python3.5/site-packages/ipykernel_launcher.py:5: SettingWithCopyWarning: \n",
      "A value is trying to be set on a copy of a slice from a DataFrame.\n",
      "Try using .loc[row_indexer,col_indexer] = value instead\n",
      "\n",
      "See the caveats in the documentation: http://pandas.pydata.org/pandas-docs/stable/indexing.html#indexing-view-versus-copy\n",
      "  \"\"\"\n"
     ]
    }
   ],
   "source": [
    "uniqueValuesStudentCourses['forma_saida_curso'] = uniqueValuesStudentCourses.apply(lambda x: arrumar_curso(x, 'Ciencia da Computacao', 240, 214), axis=1)\n",
    "uniqueValuesStudentCourses['forma_saida_curso'] = uniqueValuesStudentCourses.apply(lambda x: arrumar_curso(x, 'Computacao', 214, 180), axis=1)\n",
    "uniqueValuesStudentCourses['forma_saida_curso'] = uniqueValuesStudentCourses.apply(lambda x: arrumar_curso(x, 'Engenharia Eletrica', 262, 248), axis=1)\n",
    "uniqueValuesStudentCourses['forma_saida_curso'] = uniqueValuesStudentCourses.apply(lambda x: arrumar_curso(x, 'Estatistica', 184, 200), axis=1)\n",
    "uniqueValuesStudentCourses['forma_saida_curso'] = uniqueValuesStudentCourses.apply(lambda x: arrumar_curso(x, 'Matematica', 168, 188), axis=1)"
   ]
  },
  {
   "cell_type": "code",
   "execution_count": 16,
   "metadata": {},
   "outputs": [],
   "source": [
    "def arrumar_periodo_de_saida(row, curso, ano, creditos):\n",
    "    if((row['forma_saida_curso'] == 'Mudança de curriculo') & (row['min_cred_para_formatura'] == creditos) & (row['curso'] == curso)):\n",
    "        return ano\n",
    "    return row['periodo_saida_curso']"
   ]
  },
  {
   "cell_type": "code",
   "execution_count": 17,
   "metadata": {},
   "outputs": [
    {
     "name": "stderr",
     "output_type": "stream",
     "text": [
      "/home/luiza/.local/lib/python3.5/site-packages/ipykernel_launcher.py:1: SettingWithCopyWarning: \n",
      "A value is trying to be set on a copy of a slice from a DataFrame.\n",
      "Try using .loc[row_indexer,col_indexer] = value instead\n",
      "\n",
      "See the caveats in the documentation: http://pandas.pydata.org/pandas-docs/stable/indexing.html#indexing-view-versus-copy\n",
      "  \"\"\"Entry point for launching an IPython kernel.\n",
      "/home/luiza/.local/lib/python3.5/site-packages/ipykernel_launcher.py:2: SettingWithCopyWarning: \n",
      "A value is trying to be set on a copy of a slice from a DataFrame.\n",
      "Try using .loc[row_indexer,col_indexer] = value instead\n",
      "\n",
      "See the caveats in the documentation: http://pandas.pydata.org/pandas-docs/stable/indexing.html#indexing-view-versus-copy\n",
      "  \n",
      "/home/luiza/.local/lib/python3.5/site-packages/ipykernel_launcher.py:3: SettingWithCopyWarning: \n",
      "A value is trying to be set on a copy of a slice from a DataFrame.\n",
      "Try using .loc[row_indexer,col_indexer] = value instead\n",
      "\n",
      "See the caveats in the documentation: http://pandas.pydata.org/pandas-docs/stable/indexing.html#indexing-view-versus-copy\n",
      "  This is separate from the ipykernel package so we can avoid doing imports until\n",
      "/home/luiza/.local/lib/python3.5/site-packages/ipykernel_launcher.py:4: SettingWithCopyWarning: \n",
      "A value is trying to be set on a copy of a slice from a DataFrame.\n",
      "Try using .loc[row_indexer,col_indexer] = value instead\n",
      "\n",
      "See the caveats in the documentation: http://pandas.pydata.org/pandas-docs/stable/indexing.html#indexing-view-versus-copy\n",
      "  after removing the cwd from sys.path.\n",
      "/home/luiza/.local/lib/python3.5/site-packages/ipykernel_launcher.py:5: SettingWithCopyWarning: \n",
      "A value is trying to be set on a copy of a slice from a DataFrame.\n",
      "Try using .loc[row_indexer,col_indexer] = value instead\n",
      "\n",
      "See the caveats in the documentation: http://pandas.pydata.org/pandas-docs/stable/indexing.html#indexing-view-versus-copy\n",
      "  \"\"\"\n"
     ]
    }
   ],
   "source": [
    "uniqueValuesStudentCourses['periodo_saida_curso'] = uniqueValuesStudentCourses.apply(lambda x: arrumar_periodo_de_saida(x, 'Ciencia da Computacao', 20051, 240), axis=1)\n",
    "uniqueValuesStudentCourses['periodo_saida_curso'] = uniqueValuesStudentCourses.apply(lambda x: arrumar_periodo_de_saida(x, 'Computacao', 20051, 180), axis=1)\n",
    "uniqueValuesStudentCourses['periodo_saida_curso'] = uniqueValuesStudentCourses.apply(lambda x: arrumar_periodo_de_saida(x, 'Engenharia Eletrica', 20051, 248), axis=1)\n",
    "uniqueValuesStudentCourses['periodo_saida_curso'] = uniqueValuesStudentCourses.apply(lambda x: arrumar_periodo_de_saida(x, 'Estatistica', 20051, 200), axis=1)\n",
    "uniqueValuesStudentCourses['periodo_saida_curso'] = uniqueValuesStudentCourses.apply(lambda x: arrumar_periodo_de_saida(x, 'Matematica', 20051, 188), axis=1)\n"
   ]
  },
  {
   "cell_type": "markdown",
   "metadata": {},
   "source": [
    "### Subjects"
   ]
  },
  {
   "cell_type": "code",
   "execution_count": 18,
   "metadata": {},
   "outputs": [],
   "source": [
    "values_subjects = all_data[['codigo_disciplina', 'nome_disciplina', 'creditos_disciplina']]\n",
    "uniqueValuesSubjects = values_subjects.drop_duplicates()"
   ]
  },
  {
   "cell_type": "code",
   "execution_count": 19,
   "metadata": {},
   "outputs": [
    {
     "name": "stdout",
     "output_type": "stream",
     "text": [
      "188\n",
      "143\n",
      "143\n",
      "187\n"
     ]
    }
   ],
   "source": [
    "print(uniqueValuesSubjects['codigo_disciplina'].count())\n",
    "print(len(uniqueValuesSubjects['codigo_disciplina'].unique().tolist()))\n",
    "print(len(uniqueValuesSubjects['nome_disciplina'].unique().tolist()))\n",
    "print(len(uniqueValuesSubjects[['nome_disciplina', 'creditos_disciplina']].drop_duplicates()))\n",
    "# print(uniqueValuesSubjects['nome_disciplina'].count())\n"
   ]
  },
  {
   "cell_type": "code",
   "execution_count": 20,
   "metadata": {},
   "outputs": [
    {
     "name": "stdout",
     "output_type": "stream",
     "text": [
      "47676\n",
      "52786\n"
     ]
    }
   ],
   "source": [
    "teste = all_data[(all_data['mencao_disciplina'] == 'SS') | (all_data['mencao_disciplina'] == 'MS') | (all_data['mencao_disciplina'] == 'MM') | (all_data['mencao_disciplina'] == 'MI') | (all_data['mencao_disciplina'] == 'II') | (all_data['mencao_disciplina'] == 'SR')]\n",
    "values_subjects = teste[['codigo_disciplina', 'nome_disciplina', 'creditos_disciplina']]\n",
    "uniqueValuesSubjects = values_subjects.drop_duplicates()\n",
    "print(len(teste))\n",
    "print(len(all_data))\n"
   ]
  },
  {
   "cell_type": "code",
   "execution_count": 21,
   "metadata": {},
   "outputs": [
    {
     "name": "stdout",
     "output_type": "stream",
     "text": [
      "134\n",
      "132\n",
      "132\n",
      "133\n"
     ]
    }
   ],
   "source": [
    "print(uniqueValuesSubjects['codigo_disciplina'].count())\n",
    "print(len(uniqueValuesSubjects['codigo_disciplina'].unique().tolist()))\n",
    "print(len(uniqueValuesSubjects['nome_disciplina'].unique().tolist()))\n",
    "print(len(uniqueValuesSubjects[['nome_disciplina', 'creditos_disciplina']].drop_duplicates()))\n",
    "# print(uniqueValuesSubjects['nome_disciplina'].count())\n"
   ]
  },
  {
   "cell_type": "markdown",
   "metadata": {},
   "source": [
    "## Student_course_subject"
   ]
  },
  {
   "cell_type": "code",
   "execution_count": 22,
   "metadata": {},
   "outputs": [],
   "source": [
    "values_student_course_subject = all_data"
   ]
  },
  {
   "cell_type": "code",
   "execution_count": 23,
   "metadata": {},
   "outputs": [],
   "source": [
    "dic = {\n",
    "    'SS': 5,\n",
    "    'MS': 4,\n",
    "    'MM': 3,\n",
    "    'MI': 2,\n",
    "    'II': 1,\n",
    "    'SR': 0,\n",
    "    'TJ': -1,\n",
    "    'TR': -1,\n",
    "    'CC': -1,\n",
    "    'AP': -1,\n",
    "    'DP': -1,\n",
    "}\n",
    "values_student_course_subject['num_mencao_disciplina'] = values_student_course_subject['mencao_disciplina'].apply(lambda x: dic[x])"
   ]
  },
  {
   "cell_type": "markdown",
   "metadata": {},
   "source": [
    "### criar campo semestre p representar em qual semestre cada aluno fez cada materia"
   ]
  },
  {
   "cell_type": "code",
   "execution_count": 24,
   "metadata": {},
   "outputs": [],
   "source": [
    "def create_dic(row):\n",
    "    aux = values_student_course_subject[values_student_course_subject['id_student'] == row['id_student']]\n",
    "    \n",
    "    keys_list = aux['periodo_cursou_disciplina'].drop_duplicates().to_list()\n",
    "#     print(keys_list)\n",
    "#     print(keys_list.sort())\n",
    "    values_list = range(1, 1 + len(keys_list))\n",
    "    zip_iterator = zip(keys_list, values_list)\n",
    "    \n",
    "    a_dictionary = dict(zip_iterator)\n",
    "    \n",
    "    return a_dictionary[row['periodo_cursou_disciplina']]"
   ]
  },
  {
   "cell_type": "code",
   "execution_count": 25,
   "metadata": {},
   "outputs": [],
   "source": [
    "values_student_course_subject['semester'] = values_student_course_subject.apply(lambda x: create_dic(x), axis=1)"
   ]
  },
  {
   "cell_type": "markdown",
   "metadata": {},
   "source": [
    "# Inserção dos dados"
   ]
  },
  {
   "cell_type": "code",
   "execution_count": 26,
   "metadata": {},
   "outputs": [],
   "source": [
    "# Tabela Alunos\n",
    "for i,row in uniqueValuesStudents.iterrows():\n",
    "    sql = \"INSERT INTO students (id, gender, birth_date, adress, uf_birth, isquotaholder, quotaholder_type, school_type, university_entrance_period, university_entrance_form, university_entrance_call) VALUES (\" + \"%s,\"*(len(row)-1) + \"%s)\"\n",
    "    cursor.execute(sql, tuple(row))\n",
    "\n",
    "    # the connection is not autocommitted by default, so we must commit to save our changes\n",
    "    db.commit()\n"
   ]
  },
  {
   "cell_type": "code",
   "execution_count": 27,
   "metadata": {},
   "outputs": [],
   "source": [
    "# Tabela Matérias\n",
    "for i,row in uniqueValuesSubjects.iterrows():\n",
    "    sql = \"INSERT INTO subjects (code, name, credits) VALUES (\" + \"%s,\"*(len(row)-1) + \"%s)\"\n",
    "    cursor.execute(sql, tuple(row))\n",
    "\n",
    "    # the connection is not autocommitted by default, so we must commit to save our changes\n",
    "    db.commit()\n"
   ]
  },
  {
   "cell_type": "code",
   "execution_count": 28,
   "metadata": {},
   "outputs": [],
   "source": [
    "# Tabela Aluno_cursos\n",
    "for i,row in uniqueValuesStudentCourses.iterrows():\n",
    "    sql = \"INSERT INTO student_courses(id_student, course, course_entrance_period, leaving_period, leaving_form, minimum_graduation_credit) VALUES (\" + \"%s,\"*(len(row)-1) + \"%s)\"\n",
    "    cursor.execute(sql, tuple(row))\n",
    "\n",
    "    # the connection is not autocommitted by default, so we must commit to save our changes\n",
    "    db.commit()"
   ]
  },
  {
   "cell_type": "code",
   "execution_count": 30,
   "metadata": {},
   "outputs": [
    {
     "ename": "DatabaseError",
     "evalue": "1364 (HY000): Field 'total_credits_semester' doesn't have a default value",
     "output_type": "error",
     "traceback": [
      "\u001b[0;31m---------------------------------------------------------------------------\u001b[0m",
      "\u001b[0;31mDatabaseError\u001b[0m                             Traceback (most recent call last)",
      "\u001b[0;32m<ipython-input-30-09bb12537c16>\u001b[0m in \u001b[0;36m<module>\u001b[0;34m\u001b[0m\n\u001b[1;32m     24\u001b[0m \u001b[0;34m\u001b[0m\u001b[0m\n\u001b[1;32m     25\u001b[0m     \u001b[0msql\u001b[0m \u001b[0;34m=\u001b[0m \u001b[0;34m\"INSERT INTO student_course_subject (id_student, id_student_course, id_subject, score, num_score, average_in_semester, student_semester, semester_year, approved_total_credits_semester) VALUES (%s, %s, %s, %s, %s, %s, %s, %s, %s)\"\u001b[0m\u001b[0;34m\u001b[0m\u001b[0m\n\u001b[0;32m---> 26\u001b[0;31m     \u001b[0mcursor\u001b[0m\u001b[0;34m.\u001b[0m\u001b[0mexecute\u001b[0m\u001b[0;34m(\u001b[0m\u001b[0msql\u001b[0m\u001b[0;34m,\u001b[0m \u001b[0;34m(\u001b[0m\u001b[0mrow\u001b[0m\u001b[0;34m[\u001b[0m\u001b[0;34m'id_student'\u001b[0m\u001b[0;34m]\u001b[0m\u001b[0;34m,\u001b[0m \u001b[0mid_student_courses\u001b[0m\u001b[0;34m[\u001b[0m\u001b[0;36m0\u001b[0m\u001b[0;34m]\u001b[0m\u001b[0;34m,\u001b[0m \u001b[0mid_subjects\u001b[0m\u001b[0;34m[\u001b[0m\u001b[0;36m0\u001b[0m\u001b[0;34m]\u001b[0m\u001b[0;34m,\u001b[0m \u001b[0mrow\u001b[0m\u001b[0;34m[\u001b[0m\u001b[0;34m'mencao_disciplina'\u001b[0m\u001b[0;34m]\u001b[0m\u001b[0;34m,\u001b[0m \u001b[0mrow\u001b[0m\u001b[0;34m[\u001b[0m\u001b[0;34m'num_mencao_disciplina'\u001b[0m\u001b[0;34m]\u001b[0m\u001b[0;34m,\u001b[0m \u001b[0mrow\u001b[0m\u001b[0;34m[\u001b[0m\u001b[0;34m'media_semestre_aluno'\u001b[0m\u001b[0;34m]\u001b[0m\u001b[0;34m,\u001b[0m \u001b[0mrow\u001b[0m\u001b[0;34m[\u001b[0m\u001b[0;34m'semester'\u001b[0m\u001b[0;34m]\u001b[0m\u001b[0;34m,\u001b[0m \u001b[0mrow\u001b[0m\u001b[0;34m[\u001b[0m\u001b[0;34m'periodo_cursou_disciplina'\u001b[0m\u001b[0;34m]\u001b[0m\u001b[0;34m,\u001b[0m \u001b[0mrow\u001b[0m\u001b[0;34m[\u001b[0m\u001b[0;34m'creditos_creditos_aprovado_periodo'\u001b[0m\u001b[0;34m]\u001b[0m\u001b[0;34m)\u001b[0m\u001b[0;34m)\u001b[0m\u001b[0;34m\u001b[0m\u001b[0m\n\u001b[0m\u001b[1;32m     27\u001b[0m     \u001b[0mdb\u001b[0m\u001b[0;34m.\u001b[0m\u001b[0mcommit\u001b[0m\u001b[0;34m(\u001b[0m\u001b[0;34m)\u001b[0m\u001b[0;34m\u001b[0m\u001b[0m\n",
      "\u001b[0;32m~/.local/lib/python3.5/site-packages/mysql/connector/cursor.py\u001b[0m in \u001b[0;36mexecute\u001b[0;34m(self, operation, params, multi)\u001b[0m\n\u001b[1;32m    549\u001b[0m         \u001b[0;32melse\u001b[0m\u001b[0;34m:\u001b[0m\u001b[0;34m\u001b[0m\u001b[0m\n\u001b[1;32m    550\u001b[0m             \u001b[0;32mtry\u001b[0m\u001b[0;34m:\u001b[0m\u001b[0;34m\u001b[0m\u001b[0m\n\u001b[0;32m--> 551\u001b[0;31m                 \u001b[0mself\u001b[0m\u001b[0;34m.\u001b[0m\u001b[0m_handle_result\u001b[0m\u001b[0;34m(\u001b[0m\u001b[0mself\u001b[0m\u001b[0;34m.\u001b[0m\u001b[0m_connection\u001b[0m\u001b[0;34m.\u001b[0m\u001b[0mcmd_query\u001b[0m\u001b[0;34m(\u001b[0m\u001b[0mstmt\u001b[0m\u001b[0;34m)\u001b[0m\u001b[0;34m)\u001b[0m\u001b[0;34m\u001b[0m\u001b[0m\n\u001b[0m\u001b[1;32m    552\u001b[0m             \u001b[0;32mexcept\u001b[0m \u001b[0merrors\u001b[0m\u001b[0;34m.\u001b[0m\u001b[0mInterfaceError\u001b[0m\u001b[0;34m:\u001b[0m\u001b[0;34m\u001b[0m\u001b[0m\n\u001b[1;32m    553\u001b[0m                 \u001b[0;32mif\u001b[0m \u001b[0mself\u001b[0m\u001b[0;34m.\u001b[0m\u001b[0m_connection\u001b[0m\u001b[0;34m.\u001b[0m\u001b[0m_have_next_result\u001b[0m\u001b[0;34m:\u001b[0m  \u001b[0;31m# pylint: disable=W0212\u001b[0m\u001b[0;34m\u001b[0m\u001b[0m\n",
      "\u001b[0;32m~/.local/lib/python3.5/site-packages/mysql/connector/connection.py\u001b[0m in \u001b[0;36mcmd_query\u001b[0;34m(self, query, raw, buffered, raw_as_string)\u001b[0m\n\u001b[1;32m    488\u001b[0m         \u001b[0;32mif\u001b[0m \u001b[0;32mnot\u001b[0m \u001b[0misinstance\u001b[0m\u001b[0;34m(\u001b[0m\u001b[0mquery\u001b[0m\u001b[0;34m,\u001b[0m \u001b[0mbytes\u001b[0m\u001b[0;34m)\u001b[0m\u001b[0;34m:\u001b[0m\u001b[0;34m\u001b[0m\u001b[0m\n\u001b[1;32m    489\u001b[0m             \u001b[0mquery\u001b[0m \u001b[0;34m=\u001b[0m \u001b[0mquery\u001b[0m\u001b[0;34m.\u001b[0m\u001b[0mencode\u001b[0m\u001b[0;34m(\u001b[0m\u001b[0;34m'utf-8'\u001b[0m\u001b[0;34m)\u001b[0m\u001b[0;34m\u001b[0m\u001b[0m\n\u001b[0;32m--> 490\u001b[0;31m         \u001b[0mresult\u001b[0m \u001b[0;34m=\u001b[0m \u001b[0mself\u001b[0m\u001b[0;34m.\u001b[0m\u001b[0m_handle_result\u001b[0m\u001b[0;34m(\u001b[0m\u001b[0mself\u001b[0m\u001b[0;34m.\u001b[0m\u001b[0m_send_cmd\u001b[0m\u001b[0;34m(\u001b[0m\u001b[0mServerCmd\u001b[0m\u001b[0;34m.\u001b[0m\u001b[0mQUERY\u001b[0m\u001b[0;34m,\u001b[0m \u001b[0mquery\u001b[0m\u001b[0;34m)\u001b[0m\u001b[0;34m)\u001b[0m\u001b[0;34m\u001b[0m\u001b[0m\n\u001b[0m\u001b[1;32m    491\u001b[0m \u001b[0;34m\u001b[0m\u001b[0m\n\u001b[1;32m    492\u001b[0m         \u001b[0;32mif\u001b[0m \u001b[0mself\u001b[0m\u001b[0;34m.\u001b[0m\u001b[0m_have_next_result\u001b[0m\u001b[0;34m:\u001b[0m\u001b[0;34m\u001b[0m\u001b[0m\n",
      "\u001b[0;32m~/.local/lib/python3.5/site-packages/mysql/connector/connection.py\u001b[0m in \u001b[0;36m_handle_result\u001b[0;34m(self, packet)\u001b[0m\n\u001b[1;32m    393\u001b[0m             \u001b[0;32mreturn\u001b[0m \u001b[0mself\u001b[0m\u001b[0;34m.\u001b[0m\u001b[0m_handle_eof\u001b[0m\u001b[0;34m(\u001b[0m\u001b[0mpacket\u001b[0m\u001b[0;34m)\u001b[0m\u001b[0;34m\u001b[0m\u001b[0m\n\u001b[1;32m    394\u001b[0m         \u001b[0;32melif\u001b[0m \u001b[0mpacket\u001b[0m\u001b[0;34m[\u001b[0m\u001b[0;36m4\u001b[0m\u001b[0;34m]\u001b[0m \u001b[0;34m==\u001b[0m \u001b[0;36m255\u001b[0m\u001b[0;34m:\u001b[0m\u001b[0;34m\u001b[0m\u001b[0m\n\u001b[0;32m--> 395\u001b[0;31m             \u001b[0;32mraise\u001b[0m \u001b[0merrors\u001b[0m\u001b[0;34m.\u001b[0m\u001b[0mget_exception\u001b[0m\u001b[0;34m(\u001b[0m\u001b[0mpacket\u001b[0m\u001b[0;34m)\u001b[0m\u001b[0;34m\u001b[0m\u001b[0m\n\u001b[0m\u001b[1;32m    396\u001b[0m \u001b[0;34m\u001b[0m\u001b[0m\n\u001b[1;32m    397\u001b[0m         \u001b[0;31m# We have a text result set\u001b[0m\u001b[0;34m\u001b[0m\u001b[0;34m\u001b[0m\u001b[0m\n",
      "\u001b[0;31mDatabaseError\u001b[0m: 1364 (HY000): Field 'total_credits_semester' doesn't have a default value"
     ]
    }
   ],
   "source": [
    "# Tabela Aluno_curso_materia\n",
    "for i,row in all_data.iterrows():\n",
    "#     print(tuple(row))\n",
    "    select_idcurso = \"SELECT id FROM student_courses WHERE id_student = %s AND course = %s AND course_entrance_period = %s AND minimum_graduation_credit = %s\"\n",
    "    cursor.execute(select_idcurso, (row['id_student'], row['curso'], row['periodo_ingresso_curso'], row['min_cred_para_formatura']) )\n",
    "\n",
    "    ## fetching all usernames from the 'cursor' object\n",
    "    id_student_courses = cursor.fetchall()\n",
    "    if len(id_student_courses) > 1:\n",
    "        print('Erro', id_student_courses)\n",
    "        exit()\n",
    "\n",
    "    id_student_courses = id_student_courses[0]\n",
    "\n",
    "    select_idsubject = \"SELECT id from subjects WHERE code = %s AND name = %s AND credits = %s\"\n",
    "    cursor.execute(select_idsubject, (row['codigo_disciplina'], row['nome_disciplina'],  row['creditos_disciplina']) )\n",
    "    \n",
    "    id_subjects = cursor.fetchall()\n",
    "    if len(id_subjects) > 1:\n",
    "        print('Erro', id_subjects)\n",
    "        exit()\n",
    "\n",
    "    id_subjects = id_subjects[0]\n",
    "\n",
    "    sql = \"INSERT INTO student_course_subject (id_student, id_student_course, id_subject, score, num_score, average_in_semester, student_semester, semester_year, approved_total_credits_semester) VALUES (%s, %s, %s, %s, %s, %s, %s, %s, %s)\"\n",
    "    cursor.execute(sql, (row['id_student'], id_student_courses[0], id_subjects[0], row['mencao_disciplina'], row['num_mencao_disciplina'], row['media_semestre_aluno'], row['semester'], row['periodo_cursou_disciplina'], row['creditos_creditos_aprovado_periodo']))\n",
    "    db.commit()"
   ]
  },
  {
   "cell_type": "code",
   "execution_count": null,
   "metadata": {},
   "outputs": [],
   "source": [
    "db.close()"
   ]
  },
  {
   "cell_type": "code",
   "execution_count": null,
   "metadata": {},
   "outputs": [],
   "source": []
  }
 ],
 "metadata": {
  "kernelspec": {
   "display_name": "Python 3",
   "language": "python",
   "name": "python3"
  },
  "language_info": {
   "codemirror_mode": {
    "name": "ipython",
    "version": 3
   },
   "file_extension": ".py",
   "mimetype": "text/x-python",
   "name": "python",
   "nbconvert_exporter": "python",
   "pygments_lexer": "ipython3",
   "version": "3.5.2"
  }
 },
 "nbformat": 4,
 "nbformat_minor": 4
}
